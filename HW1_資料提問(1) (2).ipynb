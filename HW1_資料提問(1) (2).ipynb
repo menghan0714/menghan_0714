{
  "metadata": {
    "language_info": {
      "codemirror_mode": {
        "name": "python",
        "version": 3
      },
      "file_extension": ".py",
      "mimetype": "text/x-python",
      "name": "python",
      "nbconvert_exporter": "python",
      "pygments_lexer": "ipython3",
      "version": "3.8"
    },
    "kernelspec": {
      "name": "python",
      "display_name": "Python (Pyodide)",
      "language": "python"
    }
  },
  "nbformat_minor": 4,
  "nbformat": 4,
  "cells": [
    {
      "cell_type": "code",
      "source": "import pandas as pd\n\n# 建立csv檔案路徑\ncsv_file_path = 'Hualian.3.csv'\n\n# 利用pandas套件讀取資料並轉為Dataframe形式\ndf = pd.read_csv(csv_file_path)\n\n# 列印出Dataframe形式的資料\ndf",
      "metadata": {
        "trusted": true
      },
      "execution_count": null,
      "outputs": []
    },
    {
      "cell_type": "code",
      "source": "#1. 想知道花蓮市的原住民總人口數佔花蓮縣的比率? \n\n# 將性別為計的欄位提取出來\ntempset = df[df['性別'] =='計']\n\n# 將總計中值的逗號去除並由字串轉換為數值\ntempset['總計'] = tempset['總計'].str.replace(',', '').astype(int)\n\n# 提取花蓮市的原住民總人口數的資料出來\ntotal_Hualian = tempset.loc[0, '總計']\n\n# 將總計中的數值加總，可求得花蓮縣的總原住民人口數\ntotal = tempset['總計'].sum()\n\n# 計算比率\nresult = total_Hualian / total\n\n# 將比率結果四捨五入至小數點後第二位\nrounded_ratio = round(result, 2)\n\n# 列印出計算出的比率結果\nprint('花蓮市的原住民總人口數佔花蓮縣的比率為:', rounded_ratio)\n\n\n\n\n\n",
      "metadata": {
        "trusted": true
      },
      "execution_count": null,
      "outputs": []
    },
    {
      "cell_type": "code",
      "source": "#2. 想知道在花蓮市中阿美族男性占花蓮市阿美族總人口的百分率? \n\n# 設置兩個條件(condition1和condition2要是布爾類型的Series)\ncondition1 = df['列名'] > 3\ncondition2 = df['列名'] < 7\n\n# 使用邏輯運算符號來組合兩個條件，保留符合這兩個條件的列\nfiltered_data = df[condition1 & condition2]\n\n# 分別取出花蓮市中阿美族總人口數以及阿美族男性人口數\nvalue_total = df.loc[0, '阿美族']\nvalue_male = df.loc[1, '阿美族']\n\n# 確認value_total和value_male的結果是字串不是數字，在做除法運算前需先進行轉換\ntype(value_total)\ntype(value_male)\n\n# 將作為數字千位分隔符號的逗號刪除掉，並將原本的字串value_total和value_male轉換為浮點數\nvalue_total = float(value_total.replace(',', ''))\nvalue_male = float(value_male.replace(',', ''))\n\n# 計算比率\nresult = value_male / value_total\n# 將比率轉換為百分率並列印出來\nprint('在花蓮市中阿美族男性占花蓮市阿美族總人口的百分率: {:.2f}%'.format(result*100))\n\n\n\n",
      "metadata": {
        "tags": [],
        "trusted": true
      },
      "execution_count": null,
      "outputs": []
    },
    {
      "cell_type": "code",
      "source": "#3. 想知道花蓮縣的阿美族人口佔花蓮縣的原住民總人口數?\n\n# 將性別為計的欄位提取出來\ntempset = df[df['性別'] =='計']\n\n# 將欄位名稱為阿美族的值提取出來\ncolumn_data = tempset['阿美族']\n\n# 將阿美族對應值的逗號去除並由字串轉換為數值\ntempset['阿美族'] = tempset['阿美族'].str.replace(',', '').astype(int)\n\n# 將阿美族中的數值加總，可求得花蓮縣的阿美族總人口數\ntotal_Ami = tempset['阿美族'].sum()\n\n# 將總計對應值的逗號去除並由字串轉換為數值\ntempset['總計'] = tempset['總計'].str.replace(',', '').astype(int)\n\n# 將總計中的數值加總，可求得花蓮縣的總原住民人口數\ntotal = tempset['總計'].sum()\n\n# 計算比率\nresult = total_Ami / total\n\n# 將比率轉換為百分率並列印出來\nprint('花蓮縣的阿美族人口數佔花蓮縣的原住民總人口數的百分率: {:.2f}%'.format(result*100))",
      "metadata": {
        "tags": [],
        "trusted": true
      },
      "execution_count": 167,
      "outputs": [
        {
          "name": "stderr",
          "text": "<ipython-input-167-3f3363ac8033>:10: SettingWithCopyWarning: \nA value is trying to be set on a copy of a slice from a DataFrame.\nTry using .loc[row_indexer,col_indexer] = value instead\n\nSee the caveats in the documentation: https://pandas.pydata.org/pandas-docs/stable/user_guide/indexing.html#returning-a-view-versus-a-copy\n  tempset['阿美族'] = tempset['阿美族'].str.replace(',', '').astype(int)\n<ipython-input-167-3f3363ac8033>:16: SettingWithCopyWarning: \nA value is trying to be set on a copy of a slice from a DataFrame.\nTry using .loc[row_indexer,col_indexer] = value instead\n\nSee the caveats in the documentation: https://pandas.pydata.org/pandas-docs/stable/user_guide/indexing.html#returning-a-view-versus-a-copy\n  tempset['總計'] = tempset['總計'].str.replace(',', '').astype(int)\n",
          "output_type": "stream"
        },
        {
          "name": "stdout",
          "text": "花蓮縣的阿美族人口數佔花蓮縣的原住民總人口數的百分率: 56.46%\n",
          "output_type": "stream"
        }
      ]
    }
  ]
}
