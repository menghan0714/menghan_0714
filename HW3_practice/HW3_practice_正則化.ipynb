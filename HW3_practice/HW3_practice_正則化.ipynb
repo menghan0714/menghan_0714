{
  "nbformat": 4,
  "nbformat_minor": 0,
  "metadata": {
    "colab": {
      "provenance": []
    },
    "kernelspec": {
      "name": "python3",
      "display_name": "Python 3"
    },
    "language_info": {
      "name": "python"
    }
  },
  "cells": [
    {
      "cell_type": "code",
      "execution_count": 1,
      "metadata": {
        "colab": {
          "base_uri": "https://localhost:8080/"
        },
        "id": "BIVFWW4Hcejt",
        "outputId": "96dc015b-f969-419d-ed0f-287c0cfba185"
      },
      "outputs": [
        {
          "output_type": "stream",
          "name": "stdout",
          "text": [
            "找到了關鍵詞 '('其次為國民黨', '22.3%')'\n"
          ]
        }
      ],
      "source": [
        "import requests\n",
        "import re\n",
        "\n",
        "url = 'https://tw.news.yahoo.com/%E9%8B%92%E7%87%A6%E6%B0%91%E8%AA%BF-%E6%94%BF%E9%BB%A8%E7%A5%A8%E6%94%AF%E6%8C%81%E5%BA%A6-%E6%B0%91%E9%80%B2%E9%BB%A831-3-%E5%9C%8B%E6%B0%91%E9%BB%A822-220000779.html?guccounter=1&guce_referrer=aHR0cHM6Ly93d3cuZ29vZ2xlLmNvbS50dy8&guce_referrer_sig=AQAAAIF3H8nJT1Ep1YIRN4z804ooKoNzLj2ddiNW2y5xr_5tJPDAXgEj97y6W2Yn1zUnjp8rK33JmPwKQIXWeeXY-9ED778tg6djBRrfaunFIO4ZLt-foHobUljVGyRdYOZgfyuz0FXgpXqU0mNUU_5KWAav1NvibvCh67qmBZjO_3Im'  # 替换为你的网址\n",
        "response = requests.get(url)\n",
        "\n",
        "if response.status_code == 200:\n",
        "    content = response.text  # 獲取網頁內容\n",
        "\n",
        "    # 使用正則表達式查找特定關鍵詞\n",
        "    keyword_pattern = r'([\\u4e00-\\u9fff]+)\\s*的(\\d+\\.\\d+%)'\n",
        "    matches = re.findall(keyword_pattern, content)\n",
        "\n",
        "    if matches:\n",
        "        print(f\"找到了關鍵詞 '{matches[0]}'\")\n",
        "    else:\n",
        "        print(\"未找到指定關鍵詞\")\n",
        "else:\n",
        "    print(\"Failed to retrieve data from the URL\")"
      ]
    }
  ]
}
