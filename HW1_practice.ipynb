{
  "metadata": {
    "language_info": {
      "codemirror_mode": {
        "name": "python",
        "version": 3
      },
      "file_extension": ".py",
      "mimetype": "text/x-python",
      "name": "python",
      "nbconvert_exporter": "python",
      "pygments_lexer": "ipython3",
      "version": "3.8"
    },
    "kernelspec": {
      "name": "python",
      "display_name": "Python (Pyodide)",
      "language": "python"
    }
  },
  "nbformat_minor": 4,
  "nbformat": 4,
  "cells": [
    {
      "cell_type": "code",
      "source": "import pandas as pd\n\ncsv_file_path1 = 'rank_1(2).csv'\ncsv_file_path2 = 'rank_2(2).csv.csv'\n\ndf_rank1 = pd.read_csv(csv_file_path1)\ndf_rank2 = pd.read_csv(csv_file_path2)\n",
      "metadata": {
        "trusted": true
      },
      "execution_count": 6,
      "outputs": []
    },
    {
      "cell_type": "code",
      "source": "song_name_rank1 = df_rank1['歌名']\nsong_name_rank2 = df_rank2['歌名']\n\nsong_set1 = set(song_name_rank1)\nsong_set2 = set(song_name_rank2)\n\nprint(song_set1 & song_set2 )",
      "metadata": {
        "trusted": true
      },
      "execution_count": 7,
      "outputs": [
        {
          "name": "stdout",
          "text": "{'愛在你身邊', '黑', '你的電話', '查無此心', '一直都在', '給想要綻放的人', '乘著無人光影的遠行'}\n",
          "output_type": "stream"
        }
      ]
    },
    {
      "cell_type": "code",
      "source": "",
      "metadata": {},
      "execution_count": null,
      "outputs": []
    }
  ]
}