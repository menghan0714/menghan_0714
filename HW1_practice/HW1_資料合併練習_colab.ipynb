{
  "nbformat": 4,
  "nbformat_minor": 0,
  "metadata": {
    "colab": {
      "provenance": []
    },
    "kernelspec": {
      "name": "python3",
      "display_name": "Python 3"
    },
    "language_info": {
      "name": "python"
    }
  },
  "cells": [
    {
      "cell_type": "code",
      "execution_count": 1,
      "metadata": {
        "colab": {
          "base_uri": "https://localhost:8080/"
        },
        "id": "beXZspxzGsO_",
        "outputId": "83f1a500-b228-47d5-b88c-b67b1bc9073d"
      },
      "outputs": [
        {
          "output_type": "stream",
          "name": "stdout",
          "text": [
            "Mounted at /content/drive\n"
          ]
        }
      ],
      "source": [
        "from google.colab import drive\n",
        "drive.mount('/content/drive')\n"
      ]
    },
    {
      "cell_type": "code",
      "source": [
        "import pandas as pd\n",
        "csv_file_path_rank1 = '/content/drive/My Drive/practice/rank_1(2).csv'\n",
        "csv_file_path_rank2 = '/content/drive/My Drive/practice/rank_2(2).csv'\n",
        "\n",
        "df_rank1 = pd.read_csv(csv_file_path_rank1)\n",
        "df_rank2 = pd.read_csv(csv_file_path_rank2)\n",
        "\n"
      ],
      "metadata": {
        "id": "uv1hudUUG0Xo"
      },
      "execution_count": 8,
      "outputs": []
    },
    {
      "cell_type": "code",
      "source": [
        "song_name_rank1 = df_rank1['歌名']\n",
        "song_name_rank2 = df_rank2['歌名']\n"
      ],
      "metadata": {
        "id": "QuA4BSVFHhLj"
      },
      "execution_count": 9,
      "outputs": []
    },
    {
      "cell_type": "code",
      "source": [
        "song_name_rank1_set = set(song_name_rank1)\n",
        "song_name_rank2_set = set(song_name_rank2)"
      ],
      "metadata": {
        "id": "wPBCFJuzHvLq"
      },
      "execution_count": 10,
      "outputs": []
    },
    {
      "cell_type": "code",
      "source": [
        "print(song_name_rank1_set & song_name_rank2_set)"
      ],
      "metadata": {
        "colab": {
          "base_uri": "https://localhost:8080/"
        },
        "id": "_QP30zpBH41f",
        "outputId": "e534a61d-f985-4a9d-af87-2c393911fcea"
      },
      "execution_count": 11,
      "outputs": [
        {
          "output_type": "stream",
          "name": "stdout",
          "text": [
            "{'愛在你身邊', '你的電話', '乘著無人光影的遠行', '黑', '一直都在', '查無此心', '給想要綻放的人'}\n"
          ]
        }
      ]
    }
  ]
}
